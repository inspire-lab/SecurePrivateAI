{
 "nbformat": 4,
 "nbformat_minor": 0,
 "metadata": {
  "colab": {
   "name": "numpy.ipynb",
   "provenance": [],
   "collapsed_sections": [],
   "authorship_tag": "ABX9TyP1l5PO53IrQQrHdQCgks9S",
   "include_colab_link": true
  },
  "kernelspec": {
   "name": "python3",
   "display_name": "Python 3"
  }
 },
 "cells": [
  {
   "cell_type": "markdown",
   "metadata": {
    "id": "view-in-github",
    "colab_type": "text"
   },
   "source": [
    "<a href=\"https://colab.research.google.com/github/ShowLongYoung/SecurePrivateAILab/blob/master/1_intro/intro_numpy.ipynb\" target=\"_parent\"><img src=\"https://colab.research.google.com/assets/colab-badge.svg\" alt=\"Open In Colab\"/></a>"
   ]
  },
  {
   "cell_type": "markdown",
   "metadata": {
    "id": "OuMd6NunihdO",
    "colab_type": "text"
   },
   "source": [
    "This is an (incomplete) copy of the excellent NumPy quickstart guide. The original can be found here: https://docs.scipy.org/doc/numpy/user/quickstart.html and https://github.com/podschwadt/teaching\n",
    "\n",
    "© Copyright 2008-2019, The SciPy community. Last updated on Jul 26, 2019. "
   ]
  },
  {
   "cell_type": "markdown",
   "metadata": {
    "id": "K4m-RGkGgURg",
    "colab_type": "text"
   },
   "source": [
    "# Quickstart tutorial\n",
    "##Prerequisites\n",
    "Before reading this tutorial you should know a bit of Python. If you would like to refresh your memory, take a look at the Python tutorial.\n",
    "\n",
    "If you wish to work the examples in this tutorial, you must also have some software installed on your computer. Please see https://scipy.org/install.html for instructions"
   ]
  },
  {
   "cell_type": "markdown",
   "metadata": {
    "id": "wEktTGZ0gxLT",
    "colab_type": "text"
   },
   "source": [
    "## The Basics\n",
    "NumPy’s main object is the homogeneous multidimensional array. It is a table of elements (usually numbers), all of the same type, indexed by a tuple of positive integers. In NumPy dimensions are called axes.\n",
    "\n",
    "For example, the coordinates of a point in 3D space `[1, 2, 1]` has one axis. That axis has 3 elements in it, so we say it has a length of 3. In the example pictured below, the array has 2 axes. The first axis has a length of 2, the second axis has a length of 3.\n",
    "```\n",
    "[[ 1., 0., 0.],\n",
    " [ 0., 1., 2.]]\n",
    " ```\n",
    "NumPy’s array class is called `ndarray`. It is also known by the alias `array`. Note that `numpy.array` is not the same as the Standard Python Library class `array.array`, which only handles one-dimensional arrays and offers less functionality. The more important attributes of an `ndarray` object are:\n",
    "\n",
    "**ndarray.ndim**\n",
    ">the number of axes (dimensions) of the array.\n",
    "\n",
    "**ndarray.shape**\n",
    ">the dimensions of the array. This is a tuple of integers indicating the size of the array in each dimension. For a matrix with *n* rows and *m* columns, `shape` will be `(n,m)`. The length of the shape tuple is therefore the number of axes, `ndim`.\n",
    "\n",
    "**ndarray.size**\n",
    ">the total number of elements of the array. This is equal to the product of the elements of `shape`.\n",
    "\n",
    "**ndarray.dtype**\n",
    ">an object describing the type of the elements in the array. One can create or specify dtype’s using standard Python types. Additionally NumPy provides types of its own. numpy.int32, numpy.int16, and numpy.float64 are some examples.\n",
    "\n",
    "**ndarray.itemsize**\n",
    ">the size in bytes of each element of the array. For example, an array of elements of type `float64` has `itemsize` 8 (=64/8), while one of type `complex32` has itemsize 4 (=32/8). It is equivalent to `ndarray.dtype.itemsize`.\n",
    "\n",
    "**ndarray.data**\n",
    ">the buffer containing the actual elements of the array. Normally, we won’t need to use this attribute because we will access the elements in an array using indexing facilities."
   ]
  },
  {
   "cell_type": "markdown",
   "metadata": {
    "id": "nN1iUjdriHxi",
    "colab_type": "text"
   },
   "source": [
    "### An example"
   ]
  },
  {
   "cell_type": "code",
   "metadata": {
    "id": "a-phsNOygEGW",
    "colab_type": "code",
    "outputId": "3625d2ad-7591-4eab-8d57-aa4f3d5f2232",
    "colab": {
     "base_uri": "https://localhost:8080/",
     "height": 68
    }
   },
   "source": [
    "import numpy as np\n",
    "a = np.arange(15).reshape(3, 5)\n",
    "a"
   ],
   "execution_count": 0,
   "outputs": [
    {
     "output_type": "execute_result",
     "data": {
      "text/plain": [
       "array([[ 0,  1,  2,  3,  4],\n",
       "       [ 5,  6,  7,  8,  9],\n",
       "       [10, 11, 12, 13, 14]])"
      ]
     },
     "metadata": {
      "tags": []
     },
     "execution_count": 14
    }
   ]
  },
  {
   "cell_type": "code",
   "metadata": {
    "id": "49qwoBjYlHgO",
    "colab_type": "code",
    "colab": {}
   },
   "source": [
    "a.shape"
   ],
   "execution_count": 0,
   "outputs": []
  },
  {
   "cell_type": "code",
   "metadata": {
    "id": "E5mOkV_VlIro",
    "colab_type": "code",
    "colab": {}
   },
   "source": [
    "a.ndim"
   ],
   "execution_count": 0,
   "outputs": []
  },
  {
   "cell_type": "code",
   "metadata": {
    "id": "YMdFZbW0lKTB",
    "colab_type": "code",
    "colab": {}
   },
   "source": [
    "a.dtype.name"
   ],
   "execution_count": 0,
   "outputs": []
  },
  {
   "cell_type": "code",
   "metadata": {
    "id": "qX8Fh_WGlL-w",
    "colab_type": "code",
    "colab": {}
   },
   "source": [
    "a.itemsize"
   ],
   "execution_count": 0,
   "outputs": []
  },
  {
   "cell_type": "code",
   "metadata": {
    "id": "QLSp1OxSlNST",
    "colab_type": "code",
    "colab": {}
   },
   "source": [
    "a.size"
   ],
   "execution_count": 0,
   "outputs": []
  },
  {
   "cell_type": "code",
   "metadata": {
    "id": "PFpqSzL9lOtt",
    "colab_type": "code",
    "colab": {}
   },
   "source": [
    "type(a)"
   ],
   "execution_count": 0,
   "outputs": []
  },
  {
   "cell_type": "code",
   "metadata": {
    "id": "FVBrGU2dlOnQ",
    "colab_type": "code",
    "colab": {}
   },
   "source": [
    "b = np.array([6, 7, 8])\n",
    "b"
   ],
   "execution_count": 0,
   "outputs": []
  },
  {
   "cell_type": "code",
   "metadata": {
    "id": "1Sj__Z_2lE9P",
    "colab_type": "code",
    "colab": {}
   },
   "source": [
    "type(b)"
   ],
   "execution_count": 0,
   "outputs": []
  },
  {
   "cell_type": "markdown",
   "metadata": {
    "id": "PKZYRqcwlVMs",
    "colab_type": "text"
   },
   "source": [
    "## Array Creation\n",
    "\n",
    "There are several ways to create arrays.\n",
    "\n",
    "For example, you can create an array from a regular Python list or tuple using the `array` function. The type of the resulting array is deduced from the type of the elements in the sequences."
   ]
  },
  {
   "cell_type": "code",
   "metadata": {
    "id": "WKyA2uyQlfHZ",
    "colab_type": "code",
    "colab": {}
   },
   "source": [
    "import numpy as np\n",
    "a = np.array([2,3,4])\n",
    "a"
   ],
   "execution_count": 0,
   "outputs": []
  },
  {
   "cell_type": "code",
   "metadata": {
    "id": "R6dSElWAlgzD",
    "colab_type": "code",
    "colab": {}
   },
   "source": [
    "a.dtype"
   ],
   "execution_count": 0,
   "outputs": []
  },
  {
   "cell_type": "code",
   "metadata": {
    "id": "kCeBtLqdlhtw",
    "colab_type": "code",
    "colab": {}
   },
   "source": [
    "b = np.array([1.2, 3.5, 5.1])\n",
    "b.dtype"
   ],
   "execution_count": 0,
   "outputs": []
  },
  {
   "cell_type": "markdown",
   "metadata": {
    "id": "s9onLbKxljxg",
    "colab_type": "text"
   },
   "source": [
    "A frequent error consists in calling `array` with multiple numeric arguments, rather than providing a single list of numbers as an argument."
   ]
  },
  {
   "cell_type": "code",
   "metadata": {
    "id": "0cz0d5PklnZA",
    "colab_type": "code",
    "colab": {}
   },
   "source": [
    "a = np.array(1,2,3,4)    # WRONG"
   ],
   "execution_count": 0,
   "outputs": []
  },
  {
   "cell_type": "code",
   "metadata": {
    "id": "Z18tgnMDlpZy",
    "colab_type": "code",
    "colab": {}
   },
   "source": [
    "a = np.array([1,2,3,4])  # RIGHT"
   ],
   "execution_count": 0,
   "outputs": []
  },
  {
   "cell_type": "markdown",
   "metadata": {
    "id": "COAKm3rwl1RW",
    "colab_type": "text"
   },
   "source": [
    "`array` transforms sequences of sequences into two-dimensional arrays, sequences of sequences of sequences into three-dimensional arrays, and so on."
   ]
  },
  {
   "cell_type": "code",
   "metadata": {
    "id": "wz2gSm4HmJ5L",
    "colab_type": "code",
    "colab": {}
   },
   "source": [
    "b = np.array([(1.5,2,3), (4,5,6)])\n",
    "b"
   ],
   "execution_count": 0,
   "outputs": []
  },
  {
   "cell_type": "markdown",
   "metadata": {
    "id": "6dpkUhXamNlq",
    "colab_type": "text"
   },
   "source": [
    "The type of the array can also be explicitly specified at creation time:"
   ]
  },
  {
   "cell_type": "code",
   "metadata": {
    "id": "ygjdYcy7mSEI",
    "colab_type": "code",
    "colab": {}
   },
   "source": [
    "c = np.array( [ [1,2], [3,4] ], dtype=complex )\n",
    "c"
   ],
   "execution_count": 0,
   "outputs": []
  },
  {
   "cell_type": "markdown",
   "metadata": {
    "id": "GCZ_ensvmPa2",
    "colab_type": "text"
   },
   "source": [
    "Often, the elements of an array are originally unknown, but its size is known. Hence, NumPy offers several functions to create arrays with initial placeholder content. These minimize the necessity of growing arrays, an expensive operation.\n",
    "\n",
    "The function `zeros` creates an array full of zeros, the function `ones` creates an array full of ones, and the function `empty` creates an array whose initial content is random and depends on the state of the memory. By default, the dtype of the created array is `float64`."
   ]
  },
  {
   "cell_type": "code",
   "metadata": {
    "id": "KEw0Ph-PnOMR",
    "colab_type": "code",
    "colab": {}
   },
   "source": [
    "np.zeros( (3,4) )"
   ],
   "execution_count": 0,
   "outputs": []
  },
  {
   "cell_type": "code",
   "metadata": {
    "id": "NRNEKDhnnUwM",
    "colab_type": "code",
    "colab": {}
   },
   "source": [
    "np.ones( (2,3,4), dtype=np.int16 )                # dtype can also be specified"
   ],
   "execution_count": 0,
   "outputs": []
  },
  {
   "cell_type": "code",
   "metadata": {
    "id": "-38IRVsFnWOg",
    "colab_type": "code",
    "colab": {}
   },
   "source": [
    "np.empty( (2,3) )                                 # uninitialized, output may vary"
   ],
   "execution_count": 0,
   "outputs": []
  },
  {
   "cell_type": "markdown",
   "metadata": {
    "id": "mLc2rxNunZDi",
    "colab_type": "text"
   },
   "source": [
    "To create sequences of numbers, NumPy provides a function analogous to `range` that returns arrays instead of lists."
   ]
  },
  {
   "cell_type": "code",
   "metadata": {
    "id": "SDXg--dXneOz",
    "colab_type": "code",
    "colab": {}
   },
   "source": [
    "np.arange( 10, 30, 5 )"
   ],
   "execution_count": 0,
   "outputs": []
  },
  {
   "cell_type": "code",
   "metadata": {
    "id": "z_Odz6Srngjp",
    "colab_type": "code",
    "colab": {}
   },
   "source": [
    "np.arange( 0, 2, 0.3 )                 # it accepts float arguments"
   ],
   "execution_count": 0,
   "outputs": []
  },
  {
   "cell_type": "markdown",
   "metadata": {
    "id": "cHOTGRdJnm-p",
    "colab_type": "text"
   },
   "source": [
    "When `arange` is used with floating point arguments, it is generally not possible to predict the number of elements obtained, due to the finite floating point precision. For this reason, it is usually better to use the function `linspace` that receives as an argument the number of elements that we want, instead of the step:"
   ]
  },
  {
   "cell_type": "code",
   "metadata": {
    "id": "55CZ_Vl6nvKr",
    "colab_type": "code",
    "colab": {}
   },
   "source": [
    "from numpy import pi\n",
    "np.linspace( 0, 2, 9 )                 # 9 numbers from 0 to 2"
   ],
   "execution_count": 0,
   "outputs": []
  },
  {
   "cell_type": "code",
   "metadata": {
    "id": "VwcPdvmFnxvs",
    "colab_type": "code",
    "colab": {}
   },
   "source": [
    "x = np.linspace( 0, 2*pi, 100 )        # useful to evaluate function at lots of points"
   ],
   "execution_count": 0,
   "outputs": []
  },
  {
   "cell_type": "code",
   "metadata": {
    "id": "qDEZMFgWnzAZ",
    "colab_type": "code",
    "colab": {}
   },
   "source": [
    "f = np.sin(x)"
   ],
   "execution_count": 0,
   "outputs": []
  },
  {
   "cell_type": "markdown",
   "metadata": {
    "id": "PKIXjSi2n1NC",
    "colab_type": "text"
   },
   "source": [
    "See also\n",
    "array, zeros, zeros_like, ones, ones_like, empty, empty_like, arange, linspace, numpy.random.rand, numpy.random.randn, fromfunction, fromfile"
   ]
  },
  {
   "cell_type": "markdown",
   "metadata": {
    "id": "qNFRbJHSoSSa",
    "colab_type": "text"
   },
   "source": [
    "## Printing Arrays\n",
    "\n",
    "When you print an array, NumPy displays it in a similar way to nested lists, but with the following layout:\n",
    "\n",
    "* the last axis is printed from left to right,\n",
    "* the second-to-last is printed from top to bottom,\n",
    "* the rest are also printed from top to bottom, with each slice separated from the next by an empty line.\n",
    "\n",
    "One-dimensional arrays are then printed as rows, bidimensionals as matrices and tridimensionals as lists of matrices."
   ]
  },
  {
   "cell_type": "code",
   "metadata": {
    "id": "PfiFe3gkoiRu",
    "colab_type": "code",
    "colab": {}
   },
   "source": [
    "a = np.arange(6)                         # 1d array\n",
    "print(a)"
   ],
   "execution_count": 0,
   "outputs": []
  },
  {
   "cell_type": "code",
   "metadata": {
    "id": "AsQ9TTRpokdr",
    "colab_type": "code",
    "colab": {}
   },
   "source": [
    "b = np.arange(12).reshape(4,3)           # 2d array\n",
    "print(b)"
   ],
   "execution_count": 0,
   "outputs": []
  },
  {
   "cell_type": "code",
   "metadata": {
    "id": "QwrMdz5-olsC",
    "colab_type": "code",
    "colab": {}
   },
   "source": [
    "c = np.arange(24).reshape(2,3,4)         # 3d array\n",
    "print(c)"
   ],
   "execution_count": 0,
   "outputs": []
  },
  {
   "cell_type": "markdown",
   "metadata": {
    "id": "jVVs5KiVorCv",
    "colab_type": "text"
   },
   "source": [
    "See below to get more details on reshape.\n",
    "\n",
    "If an array is too large to be printed, NumPy automatically skips the central part of the array and only prints the corners:"
   ]
  },
  {
   "cell_type": "code",
   "metadata": {
    "id": "Ss88jFa4otgE",
    "colab_type": "code",
    "colab": {}
   },
   "source": [
    "print(np.arange(10000))"
   ],
   "execution_count": 0,
   "outputs": []
  },
  {
   "cell_type": "code",
   "metadata": {
    "id": "ruoN4mpDovic",
    "colab_type": "code",
    "colab": {}
   },
   "source": [
    "print(np.arange(10000).reshape(100,100))"
   ],
   "execution_count": 0,
   "outputs": []
  },
  {
   "cell_type": "markdown",
   "metadata": {
    "id": "8jgluIzJoxnA",
    "colab_type": "text"
   },
   "source": [
    "To disable this behaviour and force NumPy to print the entire array, you can change the printing options using `set_printoptions`."
   ]
  },
  {
   "cell_type": "code",
   "metadata": {
    "id": "l28sig7To2D2",
    "colab_type": "code",
    "colab": {}
   },
   "source": [
    "np.set_printoptions(threshold=np.nan)"
   ],
   "execution_count": 0,
   "outputs": []
  },
  {
   "cell_type": "markdown",
   "metadata": {
    "id": "df40EZVzcaCW",
    "colab_type": "text"
   },
   "source": [
    "## Basic Operations\n",
    "\n",
    "Arithmetic operators on arrays apply *elementwise*. A new array is created and filled with the result."
   ]
  },
  {
   "cell_type": "code",
   "metadata": {
    "id": "zzuWpqY2cgLb",
    "colab_type": "code",
    "colab": {}
   },
   "source": [
    "a = np.array( [20,30,40,50] )\n",
    "b = np.arange( 4 )\n",
    "b"
   ],
   "execution_count": 0,
   "outputs": []
  },
  {
   "cell_type": "code",
   "metadata": {
    "id": "hA9HaCldcZMR",
    "colab_type": "code",
    "colab": {}
   },
   "source": [
    "c = a-b\n",
    "c"
   ],
   "execution_count": 0,
   "outputs": []
  },
  {
   "cell_type": "code",
   "metadata": {
    "id": "KHuF4grccjzn",
    "colab_type": "code",
    "colab": {}
   },
   "source": [
    "b**2"
   ],
   "execution_count": 0,
   "outputs": []
  },
  {
   "cell_type": "code",
   "metadata": {
    "id": "gil4lGl2cqRX",
    "colab_type": "code",
    "colab": {}
   },
   "source": [
    "10*np.sin(a)"
   ],
   "execution_count": 0,
   "outputs": []
  },
  {
   "cell_type": "code",
   "metadata": {
    "id": "_X7djohhcs2j",
    "colab_type": "code",
    "colab": {}
   },
   "source": [
    "a<35"
   ],
   "execution_count": 0,
   "outputs": []
  },
  {
   "cell_type": "markdown",
   "metadata": {
    "id": "XJH3OHSncubn",
    "colab_type": "text"
   },
   "source": [
    "Unlike in many matrix languages, the product operator `*` operates elementwise in NumPy arrays. The matrix product can be performed using the `@` operator (in python >=3.5) or the `dot` function or method:"
   ]
  },
  {
   "cell_type": "code",
   "metadata": {
    "id": "mmHUVYndc-B4",
    "colab_type": "code",
    "colab": {}
   },
   "source": [
    "A = np.array( [[1,1],\n",
    "            [0,1]] )\n",
    "B = np.array( [[2,0],\n",
    "            [3,4]] )\n",
    "A * B                       # elementwise product"
   ],
   "execution_count": 0,
   "outputs": []
  },
  {
   "cell_type": "code",
   "metadata": {
    "id": "IHhOynIGdDLE",
    "colab_type": "code",
    "colab": {}
   },
   "source": [
    "A @ B                       # matrix product"
   ],
   "execution_count": 0,
   "outputs": []
  },
  {
   "cell_type": "code",
   "metadata": {
    "id": "Pu0s43mBdFN7",
    "colab_type": "code",
    "colab": {}
   },
   "source": [
    "A.dot(B)                    # another matrix product"
   ],
   "execution_count": 0,
   "outputs": []
  },
  {
   "cell_type": "markdown",
   "metadata": {
    "id": "DdX22q05dIAg",
    "colab_type": "text"
   },
   "source": [
    "Some operations, such as `+=` and `*=`, act in place to modify an existing array rather than create a new one."
   ]
  },
  {
   "cell_type": "code",
   "metadata": {
    "id": "5M7sIU3UdXvO",
    "colab_type": "code",
    "colab": {}
   },
   "source": [
    "a = np.ones((2,3), dtype=int)\n",
    "b = np.random.random((2,3))\n",
    "a *= 3\n",
    "a"
   ],
   "execution_count": 0,
   "outputs": []
  },
  {
   "cell_type": "code",
   "metadata": {
    "id": "YzxRvlEVddaz",
    "colab_type": "code",
    "colab": {}
   },
   "source": [
    "b += a\n",
    "b"
   ],
   "execution_count": 0,
   "outputs": []
  },
  {
   "cell_type": "code",
   "metadata": {
    "id": "CT8YKXIPdg6X",
    "colab_type": "code",
    "colab": {}
   },
   "source": [
    "a += b                  # b is not automatically converted to integer type"
   ],
   "execution_count": 0,
   "outputs": []
  },
  {
   "cell_type": "markdown",
   "metadata": {
    "id": "teR7cNondl4Z",
    "colab_type": "text"
   },
   "source": [
    "When operating with arrays of different types, the type of the resulting array corresponds to the more general or precise one (a behavior known as upcasting)."
   ]
  },
  {
   "cell_type": "code",
   "metadata": {
    "id": "2GynF6YOdonH",
    "colab_type": "code",
    "colab": {}
   },
   "source": [
    "a = np.ones(3, dtype=np.int32)\n",
    "b = np.linspace(0,pi,3)\n",
    "b.dtype.name"
   ],
   "execution_count": 0,
   "outputs": []
  },
  {
   "cell_type": "code",
   "metadata": {
    "id": "nqH1mkgjdrbR",
    "colab_type": "code",
    "colab": {}
   },
   "source": [
    "c = a+b\n",
    "c"
   ],
   "execution_count": 0,
   "outputs": []
  },
  {
   "cell_type": "code",
   "metadata": {
    "id": "AXe3O1D2duyz",
    "colab_type": "code",
    "colab": {}
   },
   "source": [
    "c.dtype.name"
   ],
   "execution_count": 0,
   "outputs": []
  },
  {
   "cell_type": "code",
   "metadata": {
    "id": "LdcfogisdxQH",
    "colab_type": "code",
    "colab": {}
   },
   "source": [
    "d = np.exp(c*1j)\n",
    "d"
   ],
   "execution_count": 0,
   "outputs": []
  },
  {
   "cell_type": "code",
   "metadata": {
    "id": "kQsf7TCOdyy2",
    "colab_type": "code",
    "colab": {}
   },
   "source": [
    "d.dtype.name"
   ],
   "execution_count": 0,
   "outputs": []
  },
  {
   "cell_type": "markdown",
   "metadata": {
    "id": "TsnMlIJNd1Oi",
    "colab_type": "text"
   },
   "source": [
    "Many unary operations, such as computing the sum of all the elements in the array, are implemented as methods of the `ndarray` class."
   ]
  },
  {
   "cell_type": "code",
   "metadata": {
    "id": "vCFvoROBd5LT",
    "colab_type": "code",
    "colab": {}
   },
   "source": [
    "a = np.random.random((2,3))\n",
    "a"
   ],
   "execution_count": 0,
   "outputs": []
  },
  {
   "cell_type": "code",
   "metadata": {
    "id": "qzQXhe0yd9af",
    "colab_type": "code",
    "colab": {}
   },
   "source": [
    "a.sum()"
   ],
   "execution_count": 0,
   "outputs": []
  },
  {
   "cell_type": "code",
   "metadata": {
    "id": "71A9-xPXeACN",
    "colab_type": "code",
    "colab": {}
   },
   "source": [
    "a.min()"
   ],
   "execution_count": 0,
   "outputs": []
  },
  {
   "cell_type": "code",
   "metadata": {
    "id": "qjcwBpwkeCCF",
    "colab_type": "code",
    "colab": {}
   },
   "source": [
    "a.max()"
   ],
   "execution_count": 0,
   "outputs": []
  },
  {
   "cell_type": "markdown",
   "metadata": {
    "id": "kRqloo0heJri",
    "colab_type": "text"
   },
   "source": [
    "By default, these operations apply to the array as though it were a list of numbers, regardless of its shape. However, by specifying the `axis` parameter you can apply an operation along the specified axis of an array:"
   ]
  },
  {
   "cell_type": "code",
   "metadata": {
    "id": "sKp_RliaePvN",
    "colab_type": "code",
    "colab": {}
   },
   "source": [
    "b = np.arange(12).reshape(3,4)\n",
    "b"
   ],
   "execution_count": 0,
   "outputs": []
  },
  {
   "cell_type": "code",
   "metadata": {
    "id": "QKON9YKLeRTB",
    "colab_type": "code",
    "colab": {}
   },
   "source": [
    "b.sum(axis=0)                            # sum of each column"
   ],
   "execution_count": 0,
   "outputs": []
  },
  {
   "cell_type": "code",
   "metadata": {
    "id": "NnjzivxveUZ5",
    "colab_type": "code",
    "colab": {}
   },
   "source": [
    "b.min(axis=1)                            # min of each row"
   ],
   "execution_count": 0,
   "outputs": []
  },
  {
   "cell_type": "code",
   "metadata": {
    "id": "3Rnw9hhTeXka",
    "colab_type": "code",
    "colab": {}
   },
   "source": [
    "b.cumsum(axis=1)                         # cumulative sum along each row"
   ],
   "execution_count": 0,
   "outputs": []
  },
  {
   "cell_type": "markdown",
   "metadata": {
    "id": "_NOr6g21eZyK",
    "colab_type": "text"
   },
   "source": [
    "## Universal Functions\n",
    "\n",
    "NumPy provides familiar mathematical functions such as sin, cos, and exp. In NumPy, these are called “universal functions”(ufunc). Within NumPy, these functions operate elementwise on an array, producing an array as output."
   ]
  },
  {
   "cell_type": "code",
   "metadata": {
    "id": "DUdQeUHSekMi",
    "colab_type": "code",
    "colab": {}
   },
   "source": [
    "B = np.arange(3)\n",
    "B"
   ],
   "execution_count": 0,
   "outputs": []
  },
  {
   "cell_type": "code",
   "metadata": {
    "id": "BbpbujEMeqFK",
    "colab_type": "code",
    "colab": {}
   },
   "source": [
    "np.exp(B)"
   ],
   "execution_count": 0,
   "outputs": []
  },
  {
   "cell_type": "code",
   "metadata": {
    "id": "vDvypu_1esEy",
    "colab_type": "code",
    "colab": {}
   },
   "source": [
    "np.sqrt(B)"
   ],
   "execution_count": 0,
   "outputs": []
  },
  {
   "cell_type": "code",
   "metadata": {
    "id": "1M62rhq8ewnJ",
    "colab_type": "code",
    "colab": {}
   },
   "source": [
    "C = np.array([2., -1., 4.])\n",
    "np.add(B, C)"
   ],
   "execution_count": 0,
   "outputs": []
  },
  {
   "cell_type": "markdown",
   "metadata": {
    "id": "kSBnTp8xejlN",
    "colab_type": "text"
   },
   "source": [
    "See also:\n",
    "\n",
    "all, any, apply_along_axis, argmax, argmin, argsort, average, bincount, ceil, clip, conj, corrcoef, cov, cross, cumprod, cumsum, diff, dot, floor, inner, inv, lexsort, max, maximum, mean, median, min, minimum, nonzero, outer, prod, re, round, sort, std, sum, trace, transpose, var, vdot, vectorize, where"
   ]
  },
  {
   "cell_type": "markdown",
   "metadata": {
    "id": "6qhuhBS7e6FW",
    "colab_type": "text"
   },
   "source": [
    "## Indexing, Slicing and Iterating\n",
    "**One-dimensional** arrays can be indexed, sliced and iterated over, much like lists and other Python sequences."
   ]
  },
  {
   "cell_type": "code",
   "metadata": {
    "id": "RubU0qmKfC8G",
    "colab_type": "code",
    "colab": {}
   },
   "source": [
    "a = np.arange(10)**3\n",
    "a"
   ],
   "execution_count": 0,
   "outputs": []
  },
  {
   "cell_type": "code",
   "metadata": {
    "id": "QcPW5C7_fE5c",
    "colab_type": "code",
    "colab": {}
   },
   "source": [
    "a[2]"
   ],
   "execution_count": 0,
   "outputs": []
  },
  {
   "cell_type": "code",
   "metadata": {
    "id": "tSVtq_FVfIJm",
    "colab_type": "code",
    "colab": {}
   },
   "source": [
    "a[2:5]"
   ],
   "execution_count": 0,
   "outputs": []
  },
  {
   "cell_type": "code",
   "metadata": {
    "id": "O7pL5MpVfLMK",
    "colab_type": "code",
    "colab": {}
   },
   "source": [
    "a[:6:2] = -1000    # equivalent to a[0:6:2] = -1000; from start to position 6, exclusive, set every 2nd element to -1000\n",
    "a"
   ],
   "execution_count": 0,
   "outputs": []
  },
  {
   "cell_type": "code",
   "metadata": {
    "id": "2pLWYvq8fOoT",
    "colab_type": "code",
    "colab": {}
   },
   "source": [
    "a[ : :-1]                                 # reversed a"
   ],
   "execution_count": 0,
   "outputs": []
  },
  {
   "cell_type": "code",
   "metadata": {
    "id": "Uorve4irfRlH",
    "colab_type": "code",
    "colab": {}
   },
   "source": [
    "for i in a:\n",
    "    print(i**(1/3.))"
   ],
   "execution_count": 0,
   "outputs": []
  },
  {
   "cell_type": "markdown",
   "metadata": {
    "id": "uGaR-Rj4fVa_",
    "colab_type": "text"
   },
   "source": [
    "**Multidimensional** arrays can have one index per axis. These indices are given in a tuple separated by commas:"
   ]
  },
  {
   "cell_type": "code",
   "metadata": {
    "id": "YtTKXsZafXRb",
    "colab_type": "code",
    "colab": {}
   },
   "source": [
    " def f(x,y):\n",
    "    return 10*x+y"
   ],
   "execution_count": 0,
   "outputs": []
  },
  {
   "cell_type": "code",
   "metadata": {
    "id": "NfbYKgXIfdSW",
    "colab_type": "code",
    "colab": {}
   },
   "source": [
    "b = np.fromfunction(f,(5,4),dtype=int)\n",
    "b"
   ],
   "execution_count": 0,
   "outputs": []
  },
  {
   "cell_type": "code",
   "metadata": {
    "id": "epYSepOAff2l",
    "colab_type": "code",
    "colab": {}
   },
   "source": [
    "b[2,3]"
   ],
   "execution_count": 0,
   "outputs": []
  },
  {
   "cell_type": "code",
   "metadata": {
    "id": "XlwyvVn0fjoq",
    "colab_type": "code",
    "colab": {}
   },
   "source": [
    "b[0:5, 1]                       # each row in the second column of b"
   ],
   "execution_count": 0,
   "outputs": []
  },
  {
   "cell_type": "code",
   "metadata": {
    "id": "ViuYOh38flMF",
    "colab_type": "code",
    "colab": {}
   },
   "source": [
    "b[ : ,1]                        # equivalent to the previous example"
   ],
   "execution_count": 0,
   "outputs": []
  },
  {
   "cell_type": "code",
   "metadata": {
    "id": "omwDW9UUfmr7",
    "colab_type": "code",
    "colab": {}
   },
   "source": [
    "b[1:3, : ]                      # each column in the second and third row of b"
   ],
   "execution_count": 0,
   "outputs": []
  },
  {
   "cell_type": "markdown",
   "metadata": {
    "id": "gHWSFBU4ftpn",
    "colab_type": "text"
   },
   "source": [
    "When fewer indices are provided than the number of axes, the missing indices are considered complete slices:"
   ]
  },
  {
   "cell_type": "code",
   "metadata": {
    "id": "7fIlUBk3fuxp",
    "colab_type": "code",
    "colab": {}
   },
   "source": [
    "b[-1]                                  # the last row. Equivalent to b[-1,:]"
   ],
   "execution_count": 0,
   "outputs": []
  },
  {
   "cell_type": "markdown",
   "metadata": {
    "id": "UGPiqlX-fzOC",
    "colab_type": "text"
   },
   "source": [
    "The expression within brackets in `b[i]` is treated as an `i` followed by as many instances of : as needed to represent the remaining axes. NumPy also allows you to write this using dots as `b[i,...]`.\n",
    "\n",
    "The **dots** (...) represent as many colons as needed to produce a complete indexing tuple. For example, if x is an array with 5 axes, then\n",
    "\n",
    "* `x[1,2,...]` is equivalent to `x[1,2,:,:,:]`,\n",
    "* `x[...,3]` to `x[:,:,:,:,3]` and\n",
    "* `x[4,...,5,:]` to `x[4,:,:,5,:]`."
   ]
  },
  {
   "cell_type": "code",
   "metadata": {
    "id": "ouPbiIdJgFEX",
    "colab_type": "code",
    "colab": {}
   },
   "source": [
    "c = np.array( [[[  0,  1,  2],               # a 3D array (two stacked 2D arrays)\n",
    "                [ 10, 12, 13]],\n",
    "               [[100,101,102],\n",
    "                [110,112,113]]])"
   ],
   "execution_count": 0,
   "outputs": []
  },
  {
   "cell_type": "code",
   "metadata": {
    "id": "OvGvxdSLgH6q",
    "colab_type": "code",
    "colab": {}
   },
   "source": [
    "c.shape"
   ],
   "execution_count": 0,
   "outputs": []
  },
  {
   "cell_type": "code",
   "metadata": {
    "id": "jtRXKhJHgKQo",
    "colab_type": "code",
    "colab": {}
   },
   "source": [
    "c[1,...]                                   # same as c[1,:,:] or c[1]"
   ],
   "execution_count": 0,
   "outputs": []
  },
  {
   "cell_type": "code",
   "metadata": {
    "id": "w1-GId6JgQSP",
    "colab_type": "code",
    "colab": {}
   },
   "source": [
    "c[...,2]                                   # same as c[:,:,2]"
   ],
   "execution_count": 0,
   "outputs": []
  },
  {
   "cell_type": "markdown",
   "metadata": {
    "id": "oDeQGte2gTXp",
    "colab_type": "text"
   },
   "source": [
    "**Iterating** over multidimensional arrays is done with respect to the first axis:"
   ]
  },
  {
   "cell_type": "code",
   "metadata": {
    "id": "9yOvv1NdgSqX",
    "colab_type": "code",
    "colab": {}
   },
   "source": [
    "for row in b:\n",
    "    print(row)"
   ],
   "execution_count": 0,
   "outputs": []
  },
  {
   "cell_type": "markdown",
   "metadata": {
    "id": "vbkBiFrAgYrs",
    "colab_type": "text"
   },
   "source": [
    "However, if one wants to perform an operation on each element in the array, one can use the `flat` attribute which is an iterator over all the elements of the array:"
   ]
  },
  {
   "cell_type": "code",
   "metadata": {
    "id": "1RUeUwHHgdk1",
    "colab_type": "code",
    "colab": {}
   },
   "source": [
    "for element in b.flat:\n",
    "    print(element)"
   ],
   "execution_count": 0,
   "outputs": []
  },
  {
   "cell_type": "markdown",
   "metadata": {
    "id": "EVN6GeK3gcij",
    "colab_type": "text"
   },
   "source": [
    "See also:\n",
    "\n",
    "Indexing, Indexing (reference), newaxis, ndenumerate, indices"
   ]
  },
  {
   "cell_type": "markdown",
   "metadata": {
    "id": "wczK8qPHgi4x",
    "colab_type": "text"
   },
   "source": [
    "## Shape Manipulation"
   ]
  },
  {
   "cell_type": "markdown",
   "metadata": {
    "id": "LWQZUEGLgnV4",
    "colab_type": "text"
   },
   "source": [
    "### Changing the shape of an array\n",
    "\n",
    "An array has a shape given by the number of elements along each axis:"
   ]
  },
  {
   "cell_type": "code",
   "metadata": {
    "id": "-IYAOxm1gqhd",
    "colab_type": "code",
    "colab": {}
   },
   "source": [
    "a = np.floor(10*np.random.random((3,4)))\n",
    "a"
   ],
   "execution_count": 0,
   "outputs": []
  },
  {
   "cell_type": "code",
   "metadata": {
    "id": "12vXMFcUgrk5",
    "colab_type": "code",
    "colab": {}
   },
   "source": [
    "a.shape"
   ],
   "execution_count": 0,
   "outputs": []
  },
  {
   "cell_type": "markdown",
   "metadata": {
    "id": "tV166oqNgu16",
    "colab_type": "text"
   },
   "source": [
    "The shape of an array can be changed with various commands. Note that the following three commands all return a modified array, but do not change the original array:"
   ]
  },
  {
   "cell_type": "code",
   "metadata": {
    "id": "QGS4O6CHgyWP",
    "colab_type": "code",
    "colab": {}
   },
   "source": [
    "a.ravel()  # returns the array, flattened"
   ],
   "execution_count": 0,
   "outputs": []
  },
  {
   "cell_type": "code",
   "metadata": {
    "id": "Du486Okog2HU",
    "colab_type": "code",
    "colab": {}
   },
   "source": [
    "a.reshape(6,2)  # returns the array with a modified shape"
   ],
   "execution_count": 0,
   "outputs": []
  },
  {
   "cell_type": "code",
   "metadata": {
    "id": "tWNtPfVmg4io",
    "colab_type": "code",
    "colab": {}
   },
   "source": [
    "a.T  # returns the array, transposed"
   ],
   "execution_count": 0,
   "outputs": []
  },
  {
   "cell_type": "code",
   "metadata": {
    "id": "swXghdeug6fh",
    "colab_type": "code",
    "colab": {}
   },
   "source": [
    "a.T.shape"
   ],
   "execution_count": 0,
   "outputs": []
  },
  {
   "cell_type": "code",
   "metadata": {
    "id": "hT7-hVH-g8V6",
    "colab_type": "code",
    "colab": {}
   },
   "source": [
    "a.shape"
   ],
   "execution_count": 0,
   "outputs": []
  },
  {
   "cell_type": "markdown",
   "metadata": {
    "id": "1wsPTqNzhBWy",
    "colab_type": "text"
   },
   "source": [
    "The order of the elements in the array resulting from ravel() is normally “C-style”, that is, the rightmost index “changes the fastest”, so the element after a[0,0] is a[0,1]. If the array is reshaped to some other shape, again the array is treated as “C-style”. NumPy normally creates arrays stored in this order, so ravel() will usually not need to copy its argument, but if the array was made by taking slices of another array or created with unusual options, it may need to be copied. The functions ravel() and reshape() can also be instructed, using an optional argument, to use FORTRAN-style arrays, in which the leftmost index changes the fastest.\n",
    "\n",
    "The **reshape** function returns its argument with a modified shape, whereas the **ndarray.resize** method modifies the array itself:"
   ]
  },
  {
   "cell_type": "code",
   "metadata": {
    "id": "EdKzdGYuhBEU",
    "colab_type": "code",
    "colab": {}
   },
   "source": [
    "a"
   ],
   "execution_count": 0,
   "outputs": []
  },
  {
   "cell_type": "code",
   "metadata": {
    "id": "tMgyTEqjhKtd",
    "colab_type": "code",
    "colab": {}
   },
   "source": [
    "a.resize((2,6))\n",
    "a"
   ],
   "execution_count": 0,
   "outputs": []
  },
  {
   "cell_type": "markdown",
   "metadata": {
    "id": "mhqt3uydhL7U",
    "colab_type": "text"
   },
   "source": [
    "If a dimension is given as -1 in a reshaping operation, the other dimensions are automatically calculated:"
   ]
  },
  {
   "cell_type": "code",
   "metadata": {
    "id": "2GcNavk2hOgf",
    "colab_type": "code",
    "colab": {}
   },
   "source": [
    "a.reshape(3,-1)"
   ],
   "execution_count": 0,
   "outputs": []
  },
  {
   "cell_type": "markdown",
   "metadata": {
    "id": "NEf4uIb1hRAi",
    "colab_type": "text"
   },
   "source": [
    "See also: \n",
    "\n",
    "ndarray.shape, reshape, resize, ravel"
   ]
  },
  {
   "cell_type": "markdown",
   "metadata": {
    "id": "g7kwWhUqhigG",
    "colab_type": "text"
   },
   "source": [
    "### Stacking together different arrays\n",
    "Several arrays can be stacked together along different axes:"
   ]
  },
  {
   "cell_type": "code",
   "metadata": {
    "id": "J62W9omFhpGW",
    "colab_type": "code",
    "colab": {}
   },
   "source": [
    "a = np.floor(10*np.random.random((2,2)))\n",
    "a"
   ],
   "execution_count": 0,
   "outputs": []
  },
  {
   "cell_type": "code",
   "metadata": {
    "id": "HauOYEKPhq0a",
    "colab_type": "code",
    "colab": {}
   },
   "source": [
    "b = np.floor(10*np.random.random((2,2)))\n",
    "b"
   ],
   "execution_count": 0,
   "outputs": []
  },
  {
   "cell_type": "code",
   "metadata": {
    "id": "l0lO93o0hsng",
    "colab_type": "code",
    "colab": {}
   },
   "source": [
    "np.vstack((a,b))"
   ],
   "execution_count": 0,
   "outputs": []
  },
  {
   "cell_type": "code",
   "metadata": {
    "id": "dSCyQHGVhuC8",
    "colab_type": "code",
    "colab": {}
   },
   "source": [
    "np.hstack((a,b))"
   ],
   "execution_count": 0,
   "outputs": []
  },
  {
   "cell_type": "markdown",
   "metadata": {
    "id": "oDu_I5f-hxsV",
    "colab_type": "text"
   },
   "source": [
    "The function column_stack stacks 1D arrays as columns into a 2D array. It is equivalent to hstack only for 2D arrays:"
   ]
  },
  {
   "cell_type": "code",
   "metadata": {
    "id": "EWetNxn0h1Zg",
    "colab_type": "code",
    "colab": {}
   },
   "source": [
    "from numpy import newaxis\n",
    "np.column_stack((a,b))     # with 2D arrays\n"
   ],
   "execution_count": 0,
   "outputs": []
  },
  {
   "cell_type": "code",
   "metadata": {
    "id": "0d879d0jh3kN",
    "colab_type": "code",
    "colab": {}
   },
   "source": [
    "a = np.array([4.,2.])\n",
    "b = np.array([3.,8.])\n",
    "np.column_stack((a,b))     # returns a 2D array"
   ],
   "execution_count": 0,
   "outputs": []
  },
  {
   "cell_type": "code",
   "metadata": {
    "id": "LwZ4WmyAh6Dk",
    "colab_type": "code",
    "colab": {}
   },
   "source": [
    "np.hstack((a,b))           # the result is different"
   ],
   "execution_count": 0,
   "outputs": []
  },
  {
   "cell_type": "code",
   "metadata": {
    "id": "7hD5Dkezh72_",
    "colab_type": "code",
    "colab": {}
   },
   "source": [
    "a[:,newaxis]               # this allows to have a 2D columns vector"
   ],
   "execution_count": 0,
   "outputs": []
  },
  {
   "cell_type": "code",
   "metadata": {
    "id": "2xS9sdpCh9QD",
    "colab_type": "code",
    "colab": {}
   },
   "source": [
    "np.column_stack((a[:,newaxis],b[:,newaxis]))"
   ],
   "execution_count": 0,
   "outputs": []
  },
  {
   "cell_type": "code",
   "metadata": {
    "id": "-zSX1zBKh-4s",
    "colab_type": "code",
    "colab": {}
   },
   "source": [
    "np.hstack((a[:,newaxis],b[:,newaxis]))   # the result is the same"
   ],
   "execution_count": 0,
   "outputs": []
  },
  {
   "cell_type": "markdown",
   "metadata": {
    "id": "c5i0Y9xaiBUj",
    "colab_type": "text"
   },
   "source": [
    "On the other hand, the function **row_stack** is equivalent to **vstack** for any input arrays. In general, for arrays of with more than two dimensions, **hstack** stacks along their second axes, **vstack** stacks along their first axes, and **concatenate** allows for an optional arguments giving the number of the axis along which the concatenation should happen.\n",
    "\n",
    "**Note**\n",
    "\n",
    "In complex cases, **r_** and **c_** are useful for creating arrays by stacking numbers along one axis. They allow the use of range literals (“:”)"
   ]
  },
  {
   "cell_type": "code",
   "metadata": {
    "id": "CFUJxEWniBE8",
    "colab_type": "code",
    "colab": {}
   },
   "source": [
    "np.r_[1:4,0,4]"
   ],
   "execution_count": 0,
   "outputs": []
  },
  {
   "cell_type": "markdown",
   "metadata": {
    "id": "GfK_ac9ojH28",
    "colab_type": "text"
   },
   "source": [
    "## Indexing with Boolean Arrays\n",
    "\n",
    "When we index arrays with arrays of (integer) indices we are providing the list of indices to pick. With boolean indices the approach is different; we explicitly choose which items in the array we want and which ones we don’t.\n",
    "\n",
    "The most natural way one can think of for boolean indexing is to use boolean arrays that have the same shape as the original array:"
   ]
  },
  {
   "cell_type": "code",
   "metadata": {
    "id": "vQnFJLX-jRTp",
    "colab_type": "code",
    "colab": {}
   },
   "source": [
    "a = np.arange(12).reshape(3,4)\n",
    "b = a > 4\n",
    "b                                          # b is a boolean with a's shape"
   ],
   "execution_count": 0,
   "outputs": []
  },
  {
   "cell_type": "code",
   "metadata": {
    "id": "ITTCkwV6jTAR",
    "colab_type": "code",
    "colab": {}
   },
   "source": [
    "a[b]                                       # 1d array with the selected elements"
   ],
   "execution_count": 0,
   "outputs": []
  },
  {
   "cell_type": "markdown",
   "metadata": {
    "id": "yfKzwxZVjU2P",
    "colab_type": "text"
   },
   "source": [
    "This property can be very useful in assignments:"
   ]
  },
  {
   "cell_type": "code",
   "metadata": {
    "id": "TbP8KC8ojXbs",
    "colab_type": "code",
    "colab": {}
   },
   "source": [
    "a[b] = 0                                   # All elements of 'a' higher than 4 become 0\n",
    "a"
   ],
   "execution_count": 0,
   "outputs": []
  }
 ]
}