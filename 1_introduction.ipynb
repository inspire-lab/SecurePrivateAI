{
 "cells": [
  {
   "cell_type": "markdown",
   "source": [
    "<a href=\"https://colab.research.google.com/github/inspire-lab/SecurePrivateAI/blob/master/1_introduction.ipynb\" target=\"_parent\"><img src=\"https://colab.research.google.com/assets/colab-badge.svg\" alt=\"Open In Colab\"/></a>"
   ],
   "metadata": {
    "collapsed": false
   }
  },
  {
   "cell_type": "markdown",
   "source": [
    "This lab will give you an overview of the tools and platforms used in the secure and private AI domain.\n",
    "\n",
    "It contains:\n",
    "\n",
    "- Numpy https://numpy.org/, [open notebook](./1_intro/intro_numpy.ipynb)\n",
    "- Keras https://keras.io/, [open notebook](./1_intro/intro_keras.ipynb)\n",
    "- PyTorch https://pytorch.org/, [open notebook](./1_intro/intro_pytorch.ipynb)\n",
    "- Adversarial-Robustness-Toolkits https://adversarial-robustness-toolbox.readthedocs.io/en/latest/\n",
    "\n",
    "You can run the jupyter notebook(.ipynb files) on your own computer, or (recommended) use the Colab (https://colab.research.google.com) by clicking the button \"Open In Colab\"."
   ],
   "metadata": {
    "collapsed": false
   }
  },
  {
   "cell_type": "markdown",
   "metadata": {
    "collapsed": true,
    "pycharm": {
     "name": "#%% md\n"
    }
   },
   "source": [
    "To install the libraries in the notebook, use\n",
    "\n",
    "!pip install ....\n",
    "\n",
    "or\n",
    "\n",
    "if requirements.txt is given:\n",
    "\n",
    "!pip install -r requirements.txt\n"
   ]
  }
 ],
 "metadata": {
  "kernelspec": {
   "display_name": "Python 3",
   "language": "python",
   "name": "python3"
  },
  "language_info": {
   "codemirror_mode": {
    "name": "ipython",
    "version": 2
   },
   "file_extension": ".py",
   "mimetype": "text/x-python",
   "name": "python",
   "nbconvert_exporter": "python",
   "pygments_lexer": "ipython2",
   "version": "2.7.6"
  }
 },
 "nbformat": 4,
 "nbformat_minor": 0
}